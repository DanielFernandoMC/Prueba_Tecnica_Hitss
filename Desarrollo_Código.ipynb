{
  "nbformat": 4,
  "nbformat_minor": 0,
  "metadata": {
    "colab": {
      "provenance": [],
      "toc_visible": true,
      "mount_file_id": "1qqE5Qw6gkbcoSq9v8McwnIczu88AQfKn",
      "authorship_tag": "ABX9TyPvP1l+SRQYOzlvdpngLY7h",
      "include_colab_link": true
    },
    "kernelspec": {
      "name": "python3",
      "display_name": "Python 3"
    },
    "language_info": {
      "name": "python"
    }
  },
  "cells": [
    {
      "cell_type": "markdown",
      "metadata": {
        "id": "view-in-github",
        "colab_type": "text"
      },
      "source": [
        "<a href=\"https://colab.research.google.com/github/DanielFernandoMC/Prueba_Tecnica_Hitss/blob/main/Desarrollo_C%C3%B3digo.ipynb\" target=\"_parent\"><img src=\"https://colab.research.google.com/assets/colab-badge.svg\" alt=\"Open In Colab\"/></a>"
      ]
    },
    {
      "cell_type": "markdown",
      "source": [
        "# **1. Importarlas librerias que se van a utilizar para el proyecto**"
      ],
      "metadata": {
        "id": "a-lr_Kc9w_Q9"
      }
    },
    {
      "cell_type": "code",
      "source": [
        "import pandas as pd\n",
        "import numpy as np\n",
        "import matplotlib.pyplot as plt\n",
        "import seaborn as sns\n",
        "import openpyxl\n",
        "import unicodedata"
      ],
      "metadata": {
        "id": "lnHr3vjMwhhp"
      },
      "execution_count": 74,
      "outputs": []
    },
    {
      "cell_type": "markdown",
      "source": [
        "# **2. Cargar los dataset**"
      ],
      "metadata": {
        "id": "bUHy-sbxwtoT"
      }
    },
    {
      "cell_type": "code",
      "source": [
        "planta= pd.read_csv(\"/PLANTA.csv\", encoding='latin1', sep=';')\n",
        "tmcode= pd.read_excel(\"/TMCODE.xlsx\", sheet_name='Hoja1', engine='openpyxl')"
      ],
      "metadata": {
        "id": "gS6fduFOxDok"
      },
      "execution_count": 75,
      "outputs": []
    },
    {
      "cell_type": "markdown",
      "source": [
        "# **3. Verificar los dataset**"
      ],
      "metadata": {
        "id": "6P_bWOHQyQN9"
      }
    },
    {
      "cell_type": "code",
      "source": [
        "print(planta.head())\n",
        "planta.info()\n",
        "print(tmcode.head())\n",
        "tmcode.info()"
      ],
      "metadata": {
        "colab": {
          "base_uri": "https://localhost:8080/"
        },
        "id": "8nPHyyjbxzvz",
        "outputId": "9600a7b9-80e4-43ba-df79-1535668fc88b"
      },
      "execution_count": 76,
      "outputs": [
        {
          "output_type": "stream",
          "name": "stdout",
          "text": [
            "  cod_plan_actual         depto   municipio   count\n",
            "0      28897-4103  CUNDINAMARCA  BOGOTA D C  163376\n",
            "1      25017-4103  CUNDINAMARCA  BOGOTA D C  151651\n",
            "2      30188-4103  CUNDINAMARCA  BOGOTA D C  149857\n",
            "3      25867-4103  CUNDINAMARCA  BOGOTA D C   82062\n",
            "4      27745-4103  CUNDINAMARCA  BOGOTA D C   73735\n",
            "<class 'pandas.core.frame.DataFrame'>\n",
            "RangeIndex: 200000 entries, 0 to 199999\n",
            "Data columns (total 4 columns):\n",
            " #   Column           Non-Null Count   Dtype \n",
            "---  ------           --------------   ----- \n",
            " 0   cod_plan_actual  200000 non-null  object\n",
            " 1   depto            200000 non-null  object\n",
            " 2   municipio        200000 non-null  object\n",
            " 3   count            200000 non-null  int64 \n",
            "dtypes: int64(1), object(3)\n",
            "memory usage: 6.1+ MB\n",
            "   TMCODE CLASE_PLAN     CFM_VOZ   CFM_DATOS DATOS_PLAN\n",
            "0   28897    Abierto   6017.6100  29471.2700       55GB\n",
            "1   30188    Abierto   6071.9500  30675.6300       70GB\n",
            "2   25017    Abierto   5063.0081  25584.0336       30GB\n",
            "3   23606      Mixto  10258.1700   1800.0000      500MB\n",
            "4   24043    Abierto    350.0000   1800.0000       20GB\n",
            "<class 'pandas.core.frame.DataFrame'>\n",
            "RangeIndex: 24149 entries, 0 to 24148\n",
            "Data columns (total 5 columns):\n",
            " #   Column      Non-Null Count  Dtype  \n",
            "---  ------      --------------  -----  \n",
            " 0   TMCODE      24149 non-null  int64  \n",
            " 1   CLASE_PLAN  24149 non-null  object \n",
            " 2   CFM_VOZ     24149 non-null  float64\n",
            " 3   CFM_DATOS   24149 non-null  float64\n",
            " 4   DATOS_PLAN  24149 non-null  object \n",
            "dtypes: float64(2), int64(1), object(2)\n",
            "memory usage: 943.4+ KB\n"
          ]
        }
      ]
    },
    {
      "cell_type": "markdown",
      "source": [
        "# **4. Realizar proceso ETL de la tabla PLANTA**"
      ],
      "metadata": {
        "id": "WkAp92dwyYua"
      }
    },
    {
      "cell_type": "code",
      "source": [
        "# Separar la variable cod_plan_actual para identificar TMCODE y el número de referencia\n",
        "planta[['TMCODE', 'referencia']] = planta['cod_plan_actual'].str.split('-', expand=True)\n",
        "# Convertir el tipos  de datos de TMCODE a entero\n",
        "planta['TMCODE'] = planta['TMCODE'].astype(int)\n",
        "planta[\"referencia\"] = planta[\"referencia\"].astype(int)\n",
        "# Eliminar las columnas que no son necesarias\n",
        "planta = planta.drop(columns=['cod_plan_actual'])\n",
        "# Renombrar las columnas para que sean más descriptivas\n",
        "planta = planta.rename(columns={\"depto\": \"departamento\", \"count\": \"cliente\"})\n",
        "# Reordenar las columnas\n",
        "planta = planta[['TMCODE', 'referencia', 'departamento', \"municipio\", 'cliente']]\n",
        "# Cambiar los nombres de las columnas a mayusculas, carácteres especiales y los datos a tipo oración\n",
        "planta['departamento'] = planta['departamento'].str.strip().str.title()\n",
        "planta['departamento'] = planta['departamento'].apply(lambda x: unicodedata.normalize('NFKD', str(x)).encode('ASCII', 'ignore').decode('utf-8'))\n",
        "planta['municipio'] = planta['municipio'].str.strip().str.title()\n",
        "planta['municipio'] = planta['municipio'].apply(lambda x: unicodedata.normalize('NFKD', str(x)).encode('ASCII', 'ignore').decode('utf-8'))\n",
        "planta.columns = planta.columns.str.upper()\n",
        "#Elinimar los registros duplicados\n",
        "planta = planta.drop_duplicates()\n",
        "# Verificar si hay valores nulos\n",
        "print(planta.isnull().sum())"
      ],
      "metadata": {
        "colab": {
          "base_uri": "https://localhost:8080/"
        },
        "id": "9IdeC0rByfyF",
        "outputId": "31216783-0724-4ace-e1a5-def819f3d626"
      },
      "execution_count": 77,
      "outputs": [
        {
          "output_type": "stream",
          "name": "stdout",
          "text": [
            "TMCODE          0\n",
            "REFERENCIA      0\n",
            "DEPARTAMENTO    0\n",
            "MUNICIPIO       0\n",
            "CLIENTE         0\n",
            "dtype: int64\n"
          ]
        }
      ]
    },
    {
      "cell_type": "markdown",
      "source": [
        "### **Conclusión ETL aplicado a la tabla planta**\n",
        "#### A través del proceso ETL aplicado a la tabla PLANTA, se logró transformar una estructura de datos bruta en una tabla más limpia, estructurada y analíticamente útil. Se extrajeron correctamente los componentes TMCODE y Referencia desde la variable cod_plan_actual, permitiendo establecer una clave técnica que facilitará integraciones posteriores con otras fuentes, como la tabla de planes (TMCODE.xlsx).\n",
        "#### La limpieza incluyó la conversión de tipos de datos, eliminación de columnas irrelevantes, renombramiento de variables para mejorar su interpretabilidad, reordenamiento lógico de columnas y remoción de registros duplicados.\n"
      ],
      "metadata": {
        "id": "qSHIkH9sysus"
      }
    },
    {
      "cell_type": "markdown",
      "source": [
        "# **5. Realizar proceso ETL de la tabla tmcode**"
      ],
      "metadata": {
        "id": "k4y-s_s9zBnP"
      }
    },
    {
      "cell_type": "code",
      "source": [
        "# Separamos cantidad de recursos de la unidad de medida de la columna DATOS_PLAN para trabajar bajo una misma estructura.\n",
        "tmcode['CANTIDAD_RECURSOS'] = tmcode['DATOS_PLAN'].str.extract(r'(\\d+\\.?\\d*)').astype(float)\n",
        "# Extraer la unidad de medida de la columna DATOS_PLAN\n",
        "tmcode['UNIDAD_MEDIDA'] = tmcode['DATOS_PLAN'].str.extract(r'([A-Z]+)')\n",
        "# Para los valores nulos de la columna CANTIDAD_RECURSOS se reemplazan por N/A\n",
        "tmcode['CANTIDAD_RECURSOS']= tmcode['CANTIDAD_RECURSOS'].fillna(9999999999)\n",
        "# Verificamos valores únicos en la columna UNIDAD_MEDIDA\n",
        "print(tmcode['UNIDAD_MEDIDA'].unique())\n",
        "\n",
        "# Homologar la cantidad de recursos a una sola unidad de medida, en este caso, se homologa a la unidad de medida \"GB\"\n",
        "def homologar_unidad_medida(row):\n",
        "    if row['UNIDAD_MEDIDA'] == 'GB':\n",
        "        return row['CANTIDAD_RECURSOS']\n",
        "    if row['UNIDAD_MEDIDA'] == 'ILIM':\n",
        "        return 9999999999\n",
        "    elif row['UNIDAD_MEDIDA'] == 'MB':\n",
        "        return row['CANTIDAD_RECURSOS'] / 1024  # Convertir MB a GB\n",
        "    elif row['UNIDAD_MEDIDA'] == 'KB':\n",
        "        return row['CANTIDAD_RECURSOS'] / (1024 * 1024)  # Convertir KB a GB\n",
        "    elif row['UNIDAD_MEDIDA'] == 'TB':\n",
        "        return row['CANTIDAD_RECURSOS'] * 1024  # Convertir TB a GB\n",
        "    else:\n",
        "        return np.nan  # Para otros casos, devolver NaN\n",
        "tmcode['RECURSOS_HOMOLOGADOS_GB'] = tmcode.apply(homologar_unidad_medida, axis=1)\n",
        "# Homologar unidad de medida\n",
        "def unidad (row):\n",
        "    if  row[\"UNIDAD_MEDIDA\"] == \"ILIM\":\n",
        "        return \"ILIM\"\n",
        "    else:\n",
        "        return \"GB\"\n",
        "tmcode[\"UNIDAD_HOMOLOGADA\"]= tmcode.apply(unidad,axis=1)\n",
        "# Eliminar las columnas innecesarias\n",
        "tmcode = tmcode.drop(columns=[\"CANTIDAD_RECURSOS\", \"UNIDAD_MEDIDA\"])\n",
        "#Cambian el nombre de las columnas\n",
        "tmcode = tmcode.rename(columns={\"RECURSOS_HOMOLOGADOS_GB\": \"RECURSOS_GB\", \"UNIDAD_HOMOLOGADA \": \"UNIDAD_MEDIDA\"})\n",
        "#Elinimar los registros duplicados\n",
        "tmcode = tmcode.drop_duplicates()\n",
        "# Verificar si hay valores nulos\n",
        "print(tmcode.isnull().sum())"
      ],
      "metadata": {
        "colab": {
          "base_uri": "https://localhost:8080/"
        },
        "id": "c9HTOnbiy0mp",
        "outputId": "96f3eb7e-ade0-4a9b-c8f7-dd3e0b46e4c5"
      },
      "execution_count": 78,
      "outputs": [
        {
          "output_type": "stream",
          "name": "stdout",
          "text": [
            "['GB' 'MB' 'ILIM' 'KB' 'TB']\n",
            "TMCODE               0\n",
            "CLASE_PLAN           0\n",
            "CFM_VOZ              0\n",
            "CFM_DATOS            0\n",
            "DATOS_PLAN           0\n",
            "RECURSOS_GB          0\n",
            "UNIDAD_HOMOLOGADA    0\n",
            "dtype: int64\n"
          ]
        }
      ]
    },
    {
      "cell_type": "markdown",
      "source": [
        "### **Conclusión proceso ETL tabla tmcode**\n",
        "#### El proceso ETL aplicado a la tabla tmcode permitió transformar la columna DATOS_PLAN en una estructura uniforme y analíticamente útil, descomponiendo correctamente la información en dos componentes clave: cantidad de recursos y unidad de medida.\n",
        "#### Se realizó la estandarización de unidades mediante un procedimiento de homologación que convirtió todas las magnitudes a gigabytes (GB), incluyendo la conversión de MB, KB, y TB, así como la asignación de un valor representativo para los planes con datos ilimitados (ILIM). Esto permite comparar de forma homogénea el recurso ofertado por cada plan y facilita el análisis cuantitativo.\n",
        "#### Este tratamiento garantiza la trazabilidad y estandarización de los datos de planes móviles, lo cual es fundamental para su integración con otras fuentes (como PLANTA), la construcción de modelos analíticos, y la elaboración de visualizaciones comparativas por tipo de plan, cobertura y cargo mensual.\n",
        "\n",
        "\n"
      ],
      "metadata": {
        "id": "iYZUCxsJzPtf"
      }
    },
    {
      "cell_type": "markdown",
      "source": [
        "# **6. Realizar el cruce de los dos dataframe para realizar el correspondiente análisis**"
      ],
      "metadata": {
        "id": "hCF4D6atzqNo"
      }
    },
    {
      "cell_type": "code",
      "source": [
        "df_merged = pd.merge(tmcode, planta, on=\"TMCODE\", how=\"left\")\n",
        "# Rellenar valores nulos en la columna 'cliente'\n",
        "# Realizamos el tratamiento de los valores nulos\n",
        "df_merged['REFERENCIA'] = df_merged['REFERENCIA'].astype(str)\n",
        "df_merged['CLIENTE'] = df_merged['CLIENTE'].astype(str)\n",
        "df_merged['REFERENCIA'] = df_merged['REFERENCIA'].replace(\"nan\", \"Sin referencia\")\n",
        "df_merged['DEPARTAMENTO'] = df_merged['DEPARTAMENTO'].fillna(\"Sin asignar\")\n",
        "df_merged['MUNICIPIO'] = df_merged['MUNICIPIO'].fillna(\"Sin asignar\")\n",
        "df_merged['CLIENTE'] = df_merged['CLIENTE'].replace(\"nan\",\"Cliente Inactivo\")\n",
        "\n",
        "# Convertir Referencia y cliente a texto limpio sin decimales\n",
        "df_merged['REFERENCIA'] = df_merged['REFERENCIA'].astype(str).str.replace('.0', '', regex=False)\n",
        "df_merged['CLIENTE'] = df_merged['CLIENTE'].astype(str).str.replace('.0', '', regex=False)\n",
        "df_merged.columns = df_merged.columns.str.lower()\n",
        "print(df_merged.head())\n",
        "df_merged.info()"
      ],
      "metadata": {
        "colab": {
          "base_uri": "https://localhost:8080/"
        },
        "id": "-KduhbN3z7Nn",
        "outputId": "ba18d07d-46a2-4be5-dd41-4ffe249f781d"
      },
      "execution_count": 79,
      "outputs": [
        {
          "output_type": "stream",
          "name": "stdout",
          "text": [
            "   tmcode clase_plan  cfm_voz  cfm_datos datos_plan  recursos_gb  \\\n",
            "0   28897    Abierto  6017.61   29471.27       55GB         55.0   \n",
            "1   28897    Abierto  6017.61   29471.27       55GB         55.0   \n",
            "2   28897    Abierto  6017.61   29471.27       55GB         55.0   \n",
            "3   28897    Abierto  6017.61   29471.27       55GB         55.0   \n",
            "4   28897    Abierto  6017.61   29471.27       55GB         55.0   \n",
            "\n",
            "  unidad_homologada referencia     departamento            municipio cliente  \n",
            "0                GB       4103     Cundinamarca           Bogota D C  163376  \n",
            "1                GB       4103        Antioquia             Medellin   41743  \n",
            "2                GB       4103  Valle Del Cauca                 Cali   33340  \n",
            "3                GB       4103        Atlantico         Barranquilla   23479  \n",
            "4                GB       4103          Bolivar  Cartagena De Indias   16284  \n",
            "<class 'pandas.core.frame.DataFrame'>\n",
            "RangeIndex: 110649 entries, 0 to 110648\n",
            "Data columns (total 11 columns):\n",
            " #   Column             Non-Null Count   Dtype  \n",
            "---  ------             --------------   -----  \n",
            " 0   tmcode             110649 non-null  int64  \n",
            " 1   clase_plan         110649 non-null  object \n",
            " 2   cfm_voz            110649 non-null  float64\n",
            " 3   cfm_datos          110649 non-null  float64\n",
            " 4   datos_plan         110649 non-null  object \n",
            " 5   recursos_gb        110649 non-null  float64\n",
            " 6   unidad_homologada  110649 non-null  object \n",
            " 7   referencia         110649 non-null  object \n",
            " 8   departamento       110649 non-null  object \n",
            " 9   municipio          110649 non-null  object \n",
            " 10  cliente            110649 non-null  object \n",
            "dtypes: float64(3), int64(1), object(7)\n",
            "memory usage: 9.3+ MB\n"
          ]
        }
      ]
    },
    {
      "cell_type": "markdown",
      "source": [
        "# **7. Exportamos el libro de trabajo**\n"
      ],
      "metadata": {
        "id": "3c2cLaag0QYM"
      }
    },
    {
      "cell_type": "code",
      "source": [
        "#Exportar el dataframe\n",
        "df_merged.to_excel(\"df_merged_final.xlsx\", engine=\"openpyxl\", index=0, sheet_name=\"Consolidado\")"
      ],
      "metadata": {
        "id": "MYViWLsO0Vd0"
      },
      "execution_count": 80,
      "outputs": []
    },
    {
      "cell_type": "markdown",
      "source": [
        "# **8. Vamos a realizar el análisis exploratorio y minería de datos**"
      ],
      "metadata": {
        "id": "BjtqjkaX04zw"
      }
    },
    {
      "cell_type": "code",
      "source": [
        "# Análisis de valores únicos por columna\n",
        "valores_unicos = df_merged.nunique().reset_index()\n",
        "valores_unicos.columns = ['Variable', 'Cantidad_Valores_Unicos']\n",
        "print(valores_unicos)"
      ],
      "metadata": {
        "colab": {
          "base_uri": "https://localhost:8080/"
        },
        "id": "452a5_Eo02iR",
        "outputId": "fdc0f5f5-d528-4553-ee09-dee23d31ba7e"
      },
      "execution_count": 81,
      "outputs": [
        {
          "output_type": "stream",
          "name": "stdout",
          "text": [
            "             Variable  Cantidad_Valores_Unicos\n",
            "0              tmcode                    24149\n",
            "1          clase_plan                        3\n",
            "2             cfm_voz                     7747\n",
            "3           cfm_datos                     1842\n",
            "4          datos_plan                      170\n",
            "5         recursos_gb                      170\n",
            "6   unidad_homologada                        2\n",
            "7          referencia                       31\n",
            "8        departamento                       33\n",
            "9           municipio                      974\n",
            "10            cliente                     1604\n"
          ]
        }
      ]
    },
    {
      "cell_type": "markdown",
      "source": [
        "## 8.1 - Análisis Exploratorio\n",
        "### Cargamos las librerias necesasarias para el análisis exploratorio"
      ],
      "metadata": {
        "id": "1AgMyDpV1C4v"
      }
    },
    {
      "cell_type": "code",
      "source": [
        "from sklearn.cluster import KMeans\n",
        "from sklearn.linear_model import LinearRegression\n",
        "from sklearn.preprocessing import StandardScaler"
      ],
      "metadata": {
        "id": "_FSsYn071JZB"
      },
      "execution_count": 82,
      "outputs": []
    },
    {
      "cell_type": "markdown",
      "source": [
        "### Total clientes por departamento y municipio"
      ],
      "metadata": {
        "id": "pNELqOqH1VqM"
      }
    },
    {
      "cell_type": "code",
      "source": [
        "clientes_geo = df_merged.groupby(['departamento', 'municipio']).agg(total_clientes=('cliente', 'nunique')).reset_index()\n",
        "print(clientes_geo)"
      ],
      "metadata": {
        "colab": {
          "base_uri": "https://localhost:8080/"
        },
        "id": "XY3Mymh91NtI",
        "outputId": "35587d08-3ba4-4315-d118-48fe5b5598ed"
      },
      "execution_count": 83,
      "outputs": [
        {
          "output_type": "stream",
          "name": "stdout",
          "text": [
            "     departamento       municipio  total_clientes\n",
            "0        Amazonas     La Chorrera               1\n",
            "1        Amazonas         Leticia              59\n",
            "2        Amazonas   Puerto NariaO               9\n",
            "3        Amazonas        Tarapaca               2\n",
            "4       Antioquia       Abejorral              14\n",
            "...           ...             ...             ...\n",
            "1044       Vaupes         Taraira               1\n",
            "1045      Vichada        Cumaribo              20\n",
            "1046      Vichada    La Primavera              15\n",
            "1047      Vichada  Puerto CarreaO              38\n",
            "1048      Vichada   Santa Rosalia               5\n",
            "\n",
            "[1049 rows x 3 columns]\n"
          ]
        }
      ]
    },
    {
      "cell_type": "markdown",
      "source": [
        "### Promedio y distribución de CFM_VOZ y CFM_DATOS por clase de plan"
      ],
      "metadata": {
        "id": "9FkVbxLh2ncC"
      }
    },
    {
      "cell_type": "code",
      "source": [
        "cfm_stats = df_merged.groupby('clase_plan')[['cfm_voz', 'cfm_datos']].agg(['mean', 'std', 'min', 'max']).reset_index()\n",
        "print(cfm_stats)"
      ],
      "metadata": {
        "colab": {
          "base_uri": "https://localhost:8080/"
        },
        "id": "jftSNq7h1NqA",
        "outputId": "e006a712-c053-4058-d42a-92919ee53bed"
      },
      "execution_count": 84,
      "outputs": [
        {
          "output_type": "stream",
          "name": "stdout",
          "text": [
            "  clase_plan        cfm_voz                                        cfm_datos  \\\n",
            "                       mean           std    min           max          mean   \n",
            "0    Abierto  122865.107198  2.206070e+06  350.0  2.055701e+08  26984.261821   \n",
            "1      Mixto   77109.207481  6.165789e+04  350.0  8.446483e+05   7596.291281   \n",
            "2    Prepago     350.000000  0.000000e+00  350.0  3.500000e+02   1800.000000   \n",
            "\n",
            "                                  \n",
            "            std     min      max  \n",
            "0  26822.499245  1800.0  72398.0  \n",
            "1  17132.476532  1800.0  72398.0  \n",
            "2      0.000000  1800.0   1800.0  \n"
          ]
        }
      ]
    },
    {
      "cell_type": "markdown",
      "source": [
        "### Clasificación de planes con datos ilimitados"
      ],
      "metadata": {
        "id": "UggWf7Qd3iGl"
      }
    },
    {
      "cell_type": "code",
      "source": [
        "df_merged['es_ilimitado'] = df_merged['datos_plan'].apply(lambda x: 1 if str(x).upper() == 'ILIM' else 0)\n",
        "planes_ilimitados = df_merged[df_merged['es_ilimitado'] == 1]"
      ],
      "metadata": {
        "id": "3r_WQSTn1NnE"
      },
      "execution_count": 85,
      "outputs": []
    },
    {
      "cell_type": "markdown",
      "source": [],
      "metadata": {
        "id": "IyjadUQI4IcV"
      }
    },
    {
      "cell_type": "markdown",
      "source": [
        "## 8.2 – CLUSTERING KMeans"
      ],
      "metadata": {
        "id": "tSuaIfn_4qGK"
      }
    },
    {
      "cell_type": "markdown",
      "source": [
        "### Filtrar solo planes no ilimitados con datos numéricos válidos"
      ],
      "metadata": {
        "id": "rVCZNksL5N-9"
      }
    },
    {
      "cell_type": "code",
      "source": [
        "cluster_df = df_merged[df_merged['es_ilimitado'] != 1][['cfm_voz', 'cfm_datos', 'recursos_gb']].dropna()\n",
        "print(cluster_df)"
      ],
      "metadata": {
        "colab": {
          "base_uri": "https://localhost:8080/"
        },
        "id": "8_E-FF-S1Nj5",
        "outputId": "d3820f44-e69d-47c1-8496-ee3c375d6dcf"
      },
      "execution_count": 86,
      "outputs": [
        {
          "output_type": "stream",
          "name": "stdout",
          "text": [
            "         cfm_voz  cfm_datos  recursos_gb\n",
            "0        6017.61   29471.27         55.0\n",
            "1        6017.61   29471.27         55.0\n",
            "2        6017.61   29471.27         55.0\n",
            "3        6017.61   29471.27         55.0\n",
            "4        6017.61   29471.27         55.0\n",
            "...          ...        ...          ...\n",
            "110644  12240.52   59853.69         37.0\n",
            "110645  13462.01   65817.48         40.0\n",
            "110646  13462.01   65817.48         40.0\n",
            "110647  14516.56   70966.12         52.0\n",
            "110648  16324.43   72398.00         72.0\n",
            "\n",
            "[106208 rows x 3 columns]\n"
          ]
        }
      ]
    },
    {
      "cell_type": "markdown",
      "source": [
        "### Escalamiento"
      ],
      "metadata": {
        "id": "qEgfPuKY5T39"
      }
    },
    {
      "cell_type": "code",
      "source": [
        "scaler = StandardScaler()\n",
        "cluster_scaled = scaler.fit_transform(cluster_df)\n",
        "print(cluster_scaled)"
      ],
      "metadata": {
        "colab": {
          "base_uri": "https://localhost:8080/"
        },
        "id": "MMswxrvu1NdJ",
        "outputId": "2bcf499b-68e7-40c4-a87c-74cec3942586"
      },
      "execution_count": 87,
      "outputs": [
        {
          "output_type": "stream",
          "name": "stdout",
          "text": [
            "[[-0.06029444  0.59460881  0.35570345]\n",
            " [-0.06029444  0.59460881  0.35570345]\n",
            " [-0.06029444  0.59460881  0.35570345]\n",
            " ...\n",
            " [-0.05572767  2.17252437  0.14163751]\n",
            " [-0.05508075  2.39604477  0.31289026]\n",
            " [-0.05397171  2.45820767  0.59831151]]\n"
          ]
        }
      ]
    },
    {
      "cell_type": "markdown",
      "source": [
        "### KMeans con 3 clusters"
      ],
      "metadata": {
        "id": "yxTUtLT08i06"
      }
    },
    {
      "cell_type": "code",
      "source": [
        "kmeans = KMeans(n_clusters=3, random_state=0)\n",
        "df_merged.loc[cluster_df.index, 'segmento_plan'] = kmeans.fit_predict(cluster_scaled)\n",
        "print(df_merged[\"segmento_plan\"])"
      ],
      "metadata": {
        "colab": {
          "base_uri": "https://localhost:8080/"
        },
        "id": "xmtKKYRn1NaB",
        "outputId": "99dcfebd-024e-45a7-e032-df6b38f80a24"
      },
      "execution_count": 88,
      "outputs": [
        {
          "output_type": "stream",
          "name": "stdout",
          "text": [
            "0         2.0\n",
            "1         2.0\n",
            "2         2.0\n",
            "3         2.0\n",
            "4         2.0\n",
            "         ... \n",
            "110644    2.0\n",
            "110645    2.0\n",
            "110646    2.0\n",
            "110647    2.0\n",
            "110648    2.0\n",
            "Name: segmento_plan, Length: 110649, dtype: float64\n"
          ]
        }
      ]
    },
    {
      "cell_type": "markdown",
      "source": [
        "## 8.3 – REGRESIÓN LINEAL\n"
      ],
      "metadata": {
        "id": "iz5rwFrX86Rp"
      }
    },
    {
      "cell_type": "markdown",
      "source": [
        "### El objetivo del modelo es predecir el valor esperado del cargo fijo mensual total (CFM_TOTAL) por cliente"
      ],
      "metadata": {
        "id": "wjBwOwY-K8yd"
      }
    },
    {
      "cell_type": "markdown",
      "source": [
        "#### Variable dependiente: CFM_TOTAL"
      ],
      "metadata": {
        "id": "-QSh6i4-9EeE"
      }
    },
    {
      "cell_type": "code",
      "source": [
        "df_merged['cfm_total'] = df_merged['cfm_voz'] + df_merged['cfm_datos']\n",
        "print(df_merged['cfm_total'] )"
      ],
      "metadata": {
        "colab": {
          "base_uri": "https://localhost:8080/"
        },
        "id": "MRfY8-SC88jt",
        "outputId": "293e1083-3041-469d-86f4-45a1f5e94475"
      },
      "execution_count": 89,
      "outputs": [
        {
          "output_type": "stream",
          "name": "stdout",
          "text": [
            "0         35488.88\n",
            "1         35488.88\n",
            "2         35488.88\n",
            "3         35488.88\n",
            "4         35488.88\n",
            "            ...   \n",
            "110644    72094.21\n",
            "110645    79279.49\n",
            "110646    79279.49\n",
            "110647    85482.68\n",
            "110648    88722.43\n",
            "Name: cfm_total, Length: 110649, dtype: float64\n"
          ]
        }
      ]
    },
    {
      "cell_type": "markdown",
      "source": [
        "####  Asegurar los tipos de datos de las variables"
      ],
      "metadata": {
        "id": "UKuxsWt39ktV"
      }
    },
    {
      "cell_type": "code",
      "source": [
        "df_merged['cliente'] = pd.to_numeric(df_merged['cliente'], errors='coerce').fillna(0)\n",
        "df_merged['cliente'] = df_merged['cliente'].astype(str)"
      ],
      "metadata": {
        "id": "pwWsaNMF9ijB"
      },
      "execution_count": 90,
      "outputs": []
    },
    {
      "cell_type": "markdown",
      "source": [
        "#### Agrupar por cliente único y calcular CFM_TOTAL promedio"
      ],
      "metadata": {
        "id": "QxMMgyIdFUZ1"
      }
    },
    {
      "cell_type": "code",
      "source": [
        "df_cliente_agrupado = df_merged.groupby('cliente').agg({\n",
        "    'cfm_total': 'mean',\n",
        "    'clase_plan': lambda x: x.mode()[0],        # El tipo de plan más común por cliente\n",
        "    'es_ilimitado': lambda x: x.mode()[0]       # Valor más frecuente (0 o 1)\n",
        "}).reset_index()"
      ],
      "metadata": {
        "id": "IMeCt8FEFZzi"
      },
      "execution_count": 97,
      "outputs": []
    },
    {
      "cell_type": "markdown",
      "source": [
        "#### Crear variables dummies"
      ],
      "metadata": {
        "id": "M-a6i_qiFdyp"
      }
    },
    {
      "cell_type": "code",
      "source": [
        "df_cliente_agrupado['clase_plan'] = df_cliente_agrupado['clase_plan'].astype(str)\n",
        "df_model = pd.get_dummies(df_cliente_agrupado, columns=['clase_plan'], drop_first=True)"
      ],
      "metadata": {
        "id": "Zw-yN7AeFhi_"
      },
      "execution_count": 92,
      "outputs": []
    },
    {
      "cell_type": "markdown",
      "source": [
        "#### Separar variables predictoras y objetivo"
      ],
      "metadata": {
        "id": "ftUIV16_Bgws"
      }
    },
    {
      "cell_type": "code",
      "source": [
        "X = df_model.drop(columns=['cliente', 'cfm_total'])\n",
        "y = df_model['cfm_total']"
      ],
      "metadata": {
        "id": "KAgiG6lG9iVs"
      },
      "execution_count": 93,
      "outputs": []
    },
    {
      "cell_type": "markdown",
      "source": [
        "#### Entrenamiento del modelo"
      ],
      "metadata": {
        "id": "GdR6GjM8BoqB"
      }
    },
    {
      "cell_type": "code",
      "source": [
        "reg = LinearRegression()\n",
        "reg.fit(X, y)"
      ],
      "metadata": {
        "colab": {
          "base_uri": "https://localhost:8080/",
          "height": 80
        },
        "id": "3K_Uc2OBBruW",
        "outputId": "cb973e0c-4683-406e-bb90-787a87627912"
      },
      "execution_count": 94,
      "outputs": [
        {
          "output_type": "execute_result",
          "data": {
            "text/plain": [
              "LinearRegression()"
            ],
            "text/html": [
              "<style>#sk-container-id-4 {\n",
              "  /* Definition of color scheme common for light and dark mode */\n",
              "  --sklearn-color-text: #000;\n",
              "  --sklearn-color-text-muted: #666;\n",
              "  --sklearn-color-line: gray;\n",
              "  /* Definition of color scheme for unfitted estimators */\n",
              "  --sklearn-color-unfitted-level-0: #fff5e6;\n",
              "  --sklearn-color-unfitted-level-1: #f6e4d2;\n",
              "  --sklearn-color-unfitted-level-2: #ffe0b3;\n",
              "  --sklearn-color-unfitted-level-3: chocolate;\n",
              "  /* Definition of color scheme for fitted estimators */\n",
              "  --sklearn-color-fitted-level-0: #f0f8ff;\n",
              "  --sklearn-color-fitted-level-1: #d4ebff;\n",
              "  --sklearn-color-fitted-level-2: #b3dbfd;\n",
              "  --sklearn-color-fitted-level-3: cornflowerblue;\n",
              "\n",
              "  /* Specific color for light theme */\n",
              "  --sklearn-color-text-on-default-background: var(--sg-text-color, var(--theme-code-foreground, var(--jp-content-font-color1, black)));\n",
              "  --sklearn-color-background: var(--sg-background-color, var(--theme-background, var(--jp-layout-color0, white)));\n",
              "  --sklearn-color-border-box: var(--sg-text-color, var(--theme-code-foreground, var(--jp-content-font-color1, black)));\n",
              "  --sklearn-color-icon: #696969;\n",
              "\n",
              "  @media (prefers-color-scheme: dark) {\n",
              "    /* Redefinition of color scheme for dark theme */\n",
              "    --sklearn-color-text-on-default-background: var(--sg-text-color, var(--theme-code-foreground, var(--jp-content-font-color1, white)));\n",
              "    --sklearn-color-background: var(--sg-background-color, var(--theme-background, var(--jp-layout-color0, #111)));\n",
              "    --sklearn-color-border-box: var(--sg-text-color, var(--theme-code-foreground, var(--jp-content-font-color1, white)));\n",
              "    --sklearn-color-icon: #878787;\n",
              "  }\n",
              "}\n",
              "\n",
              "#sk-container-id-4 {\n",
              "  color: var(--sklearn-color-text);\n",
              "}\n",
              "\n",
              "#sk-container-id-4 pre {\n",
              "  padding: 0;\n",
              "}\n",
              "\n",
              "#sk-container-id-4 input.sk-hidden--visually {\n",
              "  border: 0;\n",
              "  clip: rect(1px 1px 1px 1px);\n",
              "  clip: rect(1px, 1px, 1px, 1px);\n",
              "  height: 1px;\n",
              "  margin: -1px;\n",
              "  overflow: hidden;\n",
              "  padding: 0;\n",
              "  position: absolute;\n",
              "  width: 1px;\n",
              "}\n",
              "\n",
              "#sk-container-id-4 div.sk-dashed-wrapped {\n",
              "  border: 1px dashed var(--sklearn-color-line);\n",
              "  margin: 0 0.4em 0.5em 0.4em;\n",
              "  box-sizing: border-box;\n",
              "  padding-bottom: 0.4em;\n",
              "  background-color: var(--sklearn-color-background);\n",
              "}\n",
              "\n",
              "#sk-container-id-4 div.sk-container {\n",
              "  /* jupyter's `normalize.less` sets `[hidden] { display: none; }`\n",
              "     but bootstrap.min.css set `[hidden] { display: none !important; }`\n",
              "     so we also need the `!important` here to be able to override the\n",
              "     default hidden behavior on the sphinx rendered scikit-learn.org.\n",
              "     See: https://github.com/scikit-learn/scikit-learn/issues/21755 */\n",
              "  display: inline-block !important;\n",
              "  position: relative;\n",
              "}\n",
              "\n",
              "#sk-container-id-4 div.sk-text-repr-fallback {\n",
              "  display: none;\n",
              "}\n",
              "\n",
              "div.sk-parallel-item,\n",
              "div.sk-serial,\n",
              "div.sk-item {\n",
              "  /* draw centered vertical line to link estimators */\n",
              "  background-image: linear-gradient(var(--sklearn-color-text-on-default-background), var(--sklearn-color-text-on-default-background));\n",
              "  background-size: 2px 100%;\n",
              "  background-repeat: no-repeat;\n",
              "  background-position: center center;\n",
              "}\n",
              "\n",
              "/* Parallel-specific style estimator block */\n",
              "\n",
              "#sk-container-id-4 div.sk-parallel-item::after {\n",
              "  content: \"\";\n",
              "  width: 100%;\n",
              "  border-bottom: 2px solid var(--sklearn-color-text-on-default-background);\n",
              "  flex-grow: 1;\n",
              "}\n",
              "\n",
              "#sk-container-id-4 div.sk-parallel {\n",
              "  display: flex;\n",
              "  align-items: stretch;\n",
              "  justify-content: center;\n",
              "  background-color: var(--sklearn-color-background);\n",
              "  position: relative;\n",
              "}\n",
              "\n",
              "#sk-container-id-4 div.sk-parallel-item {\n",
              "  display: flex;\n",
              "  flex-direction: column;\n",
              "}\n",
              "\n",
              "#sk-container-id-4 div.sk-parallel-item:first-child::after {\n",
              "  align-self: flex-end;\n",
              "  width: 50%;\n",
              "}\n",
              "\n",
              "#sk-container-id-4 div.sk-parallel-item:last-child::after {\n",
              "  align-self: flex-start;\n",
              "  width: 50%;\n",
              "}\n",
              "\n",
              "#sk-container-id-4 div.sk-parallel-item:only-child::after {\n",
              "  width: 0;\n",
              "}\n",
              "\n",
              "/* Serial-specific style estimator block */\n",
              "\n",
              "#sk-container-id-4 div.sk-serial {\n",
              "  display: flex;\n",
              "  flex-direction: column;\n",
              "  align-items: center;\n",
              "  background-color: var(--sklearn-color-background);\n",
              "  padding-right: 1em;\n",
              "  padding-left: 1em;\n",
              "}\n",
              "\n",
              "\n",
              "/* Toggleable style: style used for estimator/Pipeline/ColumnTransformer box that is\n",
              "clickable and can be expanded/collapsed.\n",
              "- Pipeline and ColumnTransformer use this feature and define the default style\n",
              "- Estimators will overwrite some part of the style using the `sk-estimator` class\n",
              "*/\n",
              "\n",
              "/* Pipeline and ColumnTransformer style (default) */\n",
              "\n",
              "#sk-container-id-4 div.sk-toggleable {\n",
              "  /* Default theme specific background. It is overwritten whether we have a\n",
              "  specific estimator or a Pipeline/ColumnTransformer */\n",
              "  background-color: var(--sklearn-color-background);\n",
              "}\n",
              "\n",
              "/* Toggleable label */\n",
              "#sk-container-id-4 label.sk-toggleable__label {\n",
              "  cursor: pointer;\n",
              "  display: flex;\n",
              "  width: 100%;\n",
              "  margin-bottom: 0;\n",
              "  padding: 0.5em;\n",
              "  box-sizing: border-box;\n",
              "  text-align: center;\n",
              "  align-items: start;\n",
              "  justify-content: space-between;\n",
              "  gap: 0.5em;\n",
              "}\n",
              "\n",
              "#sk-container-id-4 label.sk-toggleable__label .caption {\n",
              "  font-size: 0.6rem;\n",
              "  font-weight: lighter;\n",
              "  color: var(--sklearn-color-text-muted);\n",
              "}\n",
              "\n",
              "#sk-container-id-4 label.sk-toggleable__label-arrow:before {\n",
              "  /* Arrow on the left of the label */\n",
              "  content: \"▸\";\n",
              "  float: left;\n",
              "  margin-right: 0.25em;\n",
              "  color: var(--sklearn-color-icon);\n",
              "}\n",
              "\n",
              "#sk-container-id-4 label.sk-toggleable__label-arrow:hover:before {\n",
              "  color: var(--sklearn-color-text);\n",
              "}\n",
              "\n",
              "/* Toggleable content - dropdown */\n",
              "\n",
              "#sk-container-id-4 div.sk-toggleable__content {\n",
              "  max-height: 0;\n",
              "  max-width: 0;\n",
              "  overflow: hidden;\n",
              "  text-align: left;\n",
              "  /* unfitted */\n",
              "  background-color: var(--sklearn-color-unfitted-level-0);\n",
              "}\n",
              "\n",
              "#sk-container-id-4 div.sk-toggleable__content.fitted {\n",
              "  /* fitted */\n",
              "  background-color: var(--sklearn-color-fitted-level-0);\n",
              "}\n",
              "\n",
              "#sk-container-id-4 div.sk-toggleable__content pre {\n",
              "  margin: 0.2em;\n",
              "  border-radius: 0.25em;\n",
              "  color: var(--sklearn-color-text);\n",
              "  /* unfitted */\n",
              "  background-color: var(--sklearn-color-unfitted-level-0);\n",
              "}\n",
              "\n",
              "#sk-container-id-4 div.sk-toggleable__content.fitted pre {\n",
              "  /* unfitted */\n",
              "  background-color: var(--sklearn-color-fitted-level-0);\n",
              "}\n",
              "\n",
              "#sk-container-id-4 input.sk-toggleable__control:checked~div.sk-toggleable__content {\n",
              "  /* Expand drop-down */\n",
              "  max-height: 200px;\n",
              "  max-width: 100%;\n",
              "  overflow: auto;\n",
              "}\n",
              "\n",
              "#sk-container-id-4 input.sk-toggleable__control:checked~label.sk-toggleable__label-arrow:before {\n",
              "  content: \"▾\";\n",
              "}\n",
              "\n",
              "/* Pipeline/ColumnTransformer-specific style */\n",
              "\n",
              "#sk-container-id-4 div.sk-label input.sk-toggleable__control:checked~label.sk-toggleable__label {\n",
              "  color: var(--sklearn-color-text);\n",
              "  background-color: var(--sklearn-color-unfitted-level-2);\n",
              "}\n",
              "\n",
              "#sk-container-id-4 div.sk-label.fitted input.sk-toggleable__control:checked~label.sk-toggleable__label {\n",
              "  background-color: var(--sklearn-color-fitted-level-2);\n",
              "}\n",
              "\n",
              "/* Estimator-specific style */\n",
              "\n",
              "/* Colorize estimator box */\n",
              "#sk-container-id-4 div.sk-estimator input.sk-toggleable__control:checked~label.sk-toggleable__label {\n",
              "  /* unfitted */\n",
              "  background-color: var(--sklearn-color-unfitted-level-2);\n",
              "}\n",
              "\n",
              "#sk-container-id-4 div.sk-estimator.fitted input.sk-toggleable__control:checked~label.sk-toggleable__label {\n",
              "  /* fitted */\n",
              "  background-color: var(--sklearn-color-fitted-level-2);\n",
              "}\n",
              "\n",
              "#sk-container-id-4 div.sk-label label.sk-toggleable__label,\n",
              "#sk-container-id-4 div.sk-label label {\n",
              "  /* The background is the default theme color */\n",
              "  color: var(--sklearn-color-text-on-default-background);\n",
              "}\n",
              "\n",
              "/* On hover, darken the color of the background */\n",
              "#sk-container-id-4 div.sk-label:hover label.sk-toggleable__label {\n",
              "  color: var(--sklearn-color-text);\n",
              "  background-color: var(--sklearn-color-unfitted-level-2);\n",
              "}\n",
              "\n",
              "/* Label box, darken color on hover, fitted */\n",
              "#sk-container-id-4 div.sk-label.fitted:hover label.sk-toggleable__label.fitted {\n",
              "  color: var(--sklearn-color-text);\n",
              "  background-color: var(--sklearn-color-fitted-level-2);\n",
              "}\n",
              "\n",
              "/* Estimator label */\n",
              "\n",
              "#sk-container-id-4 div.sk-label label {\n",
              "  font-family: monospace;\n",
              "  font-weight: bold;\n",
              "  display: inline-block;\n",
              "  line-height: 1.2em;\n",
              "}\n",
              "\n",
              "#sk-container-id-4 div.sk-label-container {\n",
              "  text-align: center;\n",
              "}\n",
              "\n",
              "/* Estimator-specific */\n",
              "#sk-container-id-4 div.sk-estimator {\n",
              "  font-family: monospace;\n",
              "  border: 1px dotted var(--sklearn-color-border-box);\n",
              "  border-radius: 0.25em;\n",
              "  box-sizing: border-box;\n",
              "  margin-bottom: 0.5em;\n",
              "  /* unfitted */\n",
              "  background-color: var(--sklearn-color-unfitted-level-0);\n",
              "}\n",
              "\n",
              "#sk-container-id-4 div.sk-estimator.fitted {\n",
              "  /* fitted */\n",
              "  background-color: var(--sklearn-color-fitted-level-0);\n",
              "}\n",
              "\n",
              "/* on hover */\n",
              "#sk-container-id-4 div.sk-estimator:hover {\n",
              "  /* unfitted */\n",
              "  background-color: var(--sklearn-color-unfitted-level-2);\n",
              "}\n",
              "\n",
              "#sk-container-id-4 div.sk-estimator.fitted:hover {\n",
              "  /* fitted */\n",
              "  background-color: var(--sklearn-color-fitted-level-2);\n",
              "}\n",
              "\n",
              "/* Specification for estimator info (e.g. \"i\" and \"?\") */\n",
              "\n",
              "/* Common style for \"i\" and \"?\" */\n",
              "\n",
              ".sk-estimator-doc-link,\n",
              "a:link.sk-estimator-doc-link,\n",
              "a:visited.sk-estimator-doc-link {\n",
              "  float: right;\n",
              "  font-size: smaller;\n",
              "  line-height: 1em;\n",
              "  font-family: monospace;\n",
              "  background-color: var(--sklearn-color-background);\n",
              "  border-radius: 1em;\n",
              "  height: 1em;\n",
              "  width: 1em;\n",
              "  text-decoration: none !important;\n",
              "  margin-left: 0.5em;\n",
              "  text-align: center;\n",
              "  /* unfitted */\n",
              "  border: var(--sklearn-color-unfitted-level-1) 1pt solid;\n",
              "  color: var(--sklearn-color-unfitted-level-1);\n",
              "}\n",
              "\n",
              ".sk-estimator-doc-link.fitted,\n",
              "a:link.sk-estimator-doc-link.fitted,\n",
              "a:visited.sk-estimator-doc-link.fitted {\n",
              "  /* fitted */\n",
              "  border: var(--sklearn-color-fitted-level-1) 1pt solid;\n",
              "  color: var(--sklearn-color-fitted-level-1);\n",
              "}\n",
              "\n",
              "/* On hover */\n",
              "div.sk-estimator:hover .sk-estimator-doc-link:hover,\n",
              ".sk-estimator-doc-link:hover,\n",
              "div.sk-label-container:hover .sk-estimator-doc-link:hover,\n",
              ".sk-estimator-doc-link:hover {\n",
              "  /* unfitted */\n",
              "  background-color: var(--sklearn-color-unfitted-level-3);\n",
              "  color: var(--sklearn-color-background);\n",
              "  text-decoration: none;\n",
              "}\n",
              "\n",
              "div.sk-estimator.fitted:hover .sk-estimator-doc-link.fitted:hover,\n",
              ".sk-estimator-doc-link.fitted:hover,\n",
              "div.sk-label-container:hover .sk-estimator-doc-link.fitted:hover,\n",
              ".sk-estimator-doc-link.fitted:hover {\n",
              "  /* fitted */\n",
              "  background-color: var(--sklearn-color-fitted-level-3);\n",
              "  color: var(--sklearn-color-background);\n",
              "  text-decoration: none;\n",
              "}\n",
              "\n",
              "/* Span, style for the box shown on hovering the info icon */\n",
              ".sk-estimator-doc-link span {\n",
              "  display: none;\n",
              "  z-index: 9999;\n",
              "  position: relative;\n",
              "  font-weight: normal;\n",
              "  right: .2ex;\n",
              "  padding: .5ex;\n",
              "  margin: .5ex;\n",
              "  width: min-content;\n",
              "  min-width: 20ex;\n",
              "  max-width: 50ex;\n",
              "  color: var(--sklearn-color-text);\n",
              "  box-shadow: 2pt 2pt 4pt #999;\n",
              "  /* unfitted */\n",
              "  background: var(--sklearn-color-unfitted-level-0);\n",
              "  border: .5pt solid var(--sklearn-color-unfitted-level-3);\n",
              "}\n",
              "\n",
              ".sk-estimator-doc-link.fitted span {\n",
              "  /* fitted */\n",
              "  background: var(--sklearn-color-fitted-level-0);\n",
              "  border: var(--sklearn-color-fitted-level-3);\n",
              "}\n",
              "\n",
              ".sk-estimator-doc-link:hover span {\n",
              "  display: block;\n",
              "}\n",
              "\n",
              "/* \"?\"-specific style due to the `<a>` HTML tag */\n",
              "\n",
              "#sk-container-id-4 a.estimator_doc_link {\n",
              "  float: right;\n",
              "  font-size: 1rem;\n",
              "  line-height: 1em;\n",
              "  font-family: monospace;\n",
              "  background-color: var(--sklearn-color-background);\n",
              "  border-radius: 1rem;\n",
              "  height: 1rem;\n",
              "  width: 1rem;\n",
              "  text-decoration: none;\n",
              "  /* unfitted */\n",
              "  color: var(--sklearn-color-unfitted-level-1);\n",
              "  border: var(--sklearn-color-unfitted-level-1) 1pt solid;\n",
              "}\n",
              "\n",
              "#sk-container-id-4 a.estimator_doc_link.fitted {\n",
              "  /* fitted */\n",
              "  border: var(--sklearn-color-fitted-level-1) 1pt solid;\n",
              "  color: var(--sklearn-color-fitted-level-1);\n",
              "}\n",
              "\n",
              "/* On hover */\n",
              "#sk-container-id-4 a.estimator_doc_link:hover {\n",
              "  /* unfitted */\n",
              "  background-color: var(--sklearn-color-unfitted-level-3);\n",
              "  color: var(--sklearn-color-background);\n",
              "  text-decoration: none;\n",
              "}\n",
              "\n",
              "#sk-container-id-4 a.estimator_doc_link.fitted:hover {\n",
              "  /* fitted */\n",
              "  background-color: var(--sklearn-color-fitted-level-3);\n",
              "}\n",
              "</style><div id=\"sk-container-id-4\" class=\"sk-top-container\"><div class=\"sk-text-repr-fallback\"><pre>LinearRegression()</pre><b>In a Jupyter environment, please rerun this cell to show the HTML representation or trust the notebook. <br />On GitHub, the HTML representation is unable to render, please try loading this page with nbviewer.org.</b></div><div class=\"sk-container\" hidden><div class=\"sk-item\"><div class=\"sk-estimator fitted sk-toggleable\"><input class=\"sk-toggleable__control sk-hidden--visually\" id=\"sk-estimator-id-4\" type=\"checkbox\" checked><label for=\"sk-estimator-id-4\" class=\"sk-toggleable__label fitted sk-toggleable__label-arrow\"><div><div>LinearRegression</div></div><div><a class=\"sk-estimator-doc-link fitted\" rel=\"noreferrer\" target=\"_blank\" href=\"https://scikit-learn.org/1.6/modules/generated/sklearn.linear_model.LinearRegression.html\">?<span>Documentation for LinearRegression</span></a><span class=\"sk-estimator-doc-link fitted\">i<span>Fitted</span></span></div></label><div class=\"sk-toggleable__content fitted\"><pre>LinearRegression()</pre></div> </div></div></div></div>"
            ]
          },
          "metadata": {},
          "execution_count": 94
        }
      ]
    },
    {
      "cell_type": "markdown",
      "source": [
        "#### Exportar los coeficientes"
      ],
      "metadata": {
        "id": "c2jUWrGtB1Y6"
      }
    },
    {
      "cell_type": "code",
      "source": [
        "regression_summary = pd.DataFrame({\n",
        "    'Variable': X.columns,\n",
        "    'Coeficiente': reg.coef_\n",
        "})\n",
        "print(regression_summary)"
      ],
      "metadata": {
        "colab": {
          "base_uri": "https://localhost:8080/"
        },
        "id": "4ZU4K35CB070",
        "outputId": "55e2b991-8925-4a3e-e90c-ab05a6ea3bb6"
      },
      "execution_count": 95,
      "outputs": [
        {
          "output_type": "stream",
          "name": "stdout",
          "text": [
            "           Variable   Coeficiente\n",
            "0      es_ilimitado  26801.773725\n",
            "1  clase_plan_Mixto  16195.049846\n"
          ]
        }
      ]
    },
    {
      "cell_type": "markdown",
      "source": [
        "#### Calcular R² del modelo\n"
      ],
      "metadata": {
        "id": "3acYpb9KJjIy"
      }
    },
    {
      "cell_type": "code",
      "source": [
        "r2 = reg.score(X, y)\n",
        "print(f\"R² del modelo: {r2:.4f}\")"
      ],
      "metadata": {
        "colab": {
          "base_uri": "https://localhost:8080/"
        },
        "id": "wciWSSgRJm5y",
        "outputId": "31d95c2b-8d02-47d0-9329-902650c8f464"
      },
      "execution_count": 96,
      "outputs": [
        {
          "output_type": "stream",
          "name": "stdout",
          "text": [
            "R² del modelo: 0.0451\n"
          ]
        }
      ]
    },
    {
      "cell_type": "markdown",
      "source": [
        "### Interpretación de los resultados\n",
        "#### Los planes con datos ilimitados tienden a tener un cfm_total promedio mayor en $26.801, respecto a los que no son ilimitados. Esto sugiere que estos planes no solo son más caros, sino que también están dirigidos a un segmento dispuesto a pagar más.\n",
        "\n",
        "#### Los clientes con planes mixtos tienen un cfm_total promedio mayor en $16.195 respecto a los de planes base (posiblemente “Abierto”), lo que puede reflejar una combinación costo-valor percibido superior."
      ],
      "metadata": {
        "id": "eFRlp2mSKA8I"
      }
    },
    {
      "cell_type": "markdown",
      "source": [
        "### Conclusión\n",
        "#### El modelo de regresión lineal muestra que el CFM_TOTAL promedio por cliente aumenta significativamente cuando el plan es ilimitado o mixto. Esto indica que estas características son factores clave en la definición del valor comercial de un cliente. El modelo es útil para la planificación tarifaria, el diseño de planes personalizados y la proyección de ingresos en función del tipo de producto ofertado."
      ],
      "metadata": {
        "id": "gTX_ONGmKs6o"
      }
    },
    {
      "cell_type": "markdown",
      "source": [],
      "metadata": {
        "id": "AORQ8NV29h7I"
      }
    }
  ]
}